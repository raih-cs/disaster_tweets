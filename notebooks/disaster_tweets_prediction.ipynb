{
 "cells": [
  {
   "cell_type": "code",
   "execution_count": 1,
   "id": "1191aa94",
   "metadata": {},
   "outputs": [],
   "source": [
    "import os\n",
    "import numpy as np\n",
    "import pandas as pd\n",
    "import seaborn as sns\n",
    "import matplotlib.pyplot as plt"
   ]
  },
  {
   "cell_type": "code",
   "execution_count": 2,
   "id": "23c7c234",
   "metadata": {},
   "outputs": [
    {
     "name": "stdout",
     "output_type": "stream",
     "text": [
      "Training set shape: (7613, 5)\n",
      "\n",
      "Test set shape: (3263, 4)\n",
      "\n"
     ]
    }
   ],
   "source": [
    "# Only run once\n",
    "\n",
    "os.chdir('..')\n",
    "\n",
    "basepath = os.getcwd()\n",
    "\n",
    "data_train = pd.read_csv(basepath + '/data/train.csv')\n",
    "data_test = pd.read_csv(basepath + '/data/test.csv')\n",
    "\n",
    "print(f\"Training set shape: {data_train.shape}\\n\")\n",
    "print(f\"Test set shape: {data_test.shape}\\n\")"
   ]
  },
  {
   "cell_type": "code",
   "execution_count": 3,
   "id": "1c236ee6",
   "metadata": {},
   "outputs": [
    {
     "data": {
      "text/html": [
       "<div>\n",
       "<style scoped>\n",
       "    .dataframe tbody tr th:only-of-type {\n",
       "        vertical-align: middle;\n",
       "    }\n",
       "\n",
       "    .dataframe tbody tr th {\n",
       "        vertical-align: top;\n",
       "    }\n",
       "\n",
       "    .dataframe thead th {\n",
       "        text-align: right;\n",
       "    }\n",
       "</style>\n",
       "<table border=\"1\" class=\"dataframe\">\n",
       "  <thead>\n",
       "    <tr style=\"text-align: right;\">\n",
       "      <th></th>\n",
       "      <th>id</th>\n",
       "      <th>keyword</th>\n",
       "      <th>location</th>\n",
       "      <th>text</th>\n",
       "      <th>target</th>\n",
       "    </tr>\n",
       "  </thead>\n",
       "  <tbody>\n",
       "    <tr>\n",
       "      <th>0</th>\n",
       "      <td>1</td>\n",
       "      <td>NaN</td>\n",
       "      <td>NaN</td>\n",
       "      <td>Our Deeds are the Reason of this #earthquake M...</td>\n",
       "      <td>1</td>\n",
       "    </tr>\n",
       "    <tr>\n",
       "      <th>1</th>\n",
       "      <td>4</td>\n",
       "      <td>NaN</td>\n",
       "      <td>NaN</td>\n",
       "      <td>Forest fire near La Ronge Sask. Canada</td>\n",
       "      <td>1</td>\n",
       "    </tr>\n",
       "    <tr>\n",
       "      <th>2</th>\n",
       "      <td>5</td>\n",
       "      <td>NaN</td>\n",
       "      <td>NaN</td>\n",
       "      <td>All residents asked to 'shelter in place' are ...</td>\n",
       "      <td>1</td>\n",
       "    </tr>\n",
       "    <tr>\n",
       "      <th>3</th>\n",
       "      <td>6</td>\n",
       "      <td>NaN</td>\n",
       "      <td>NaN</td>\n",
       "      <td>13,000 people receive #wildfires evacuation or...</td>\n",
       "      <td>1</td>\n",
       "    </tr>\n",
       "    <tr>\n",
       "      <th>4</th>\n",
       "      <td>7</td>\n",
       "      <td>NaN</td>\n",
       "      <td>NaN</td>\n",
       "      <td>Just got sent this photo from Ruby #Alaska as ...</td>\n",
       "      <td>1</td>\n",
       "    </tr>\n",
       "  </tbody>\n",
       "</table>\n",
       "</div>"
      ],
      "text/plain": [
       "   id keyword location                                               text  \\\n",
       "0   1     NaN      NaN  Our Deeds are the Reason of this #earthquake M...   \n",
       "1   4     NaN      NaN             Forest fire near La Ronge Sask. Canada   \n",
       "2   5     NaN      NaN  All residents asked to 'shelter in place' are ...   \n",
       "3   6     NaN      NaN  13,000 people receive #wildfires evacuation or...   \n",
       "4   7     NaN      NaN  Just got sent this photo from Ruby #Alaska as ...   \n",
       "\n",
       "   target  \n",
       "0       1  \n",
       "1       1  \n",
       "2       1  \n",
       "3       1  \n",
       "4       1  "
      ]
     },
     "metadata": {},
     "output_type": "display_data"
    },
    {
     "name": "stdout",
     "output_type": "stream",
     "text": [
      "<class 'pandas.core.frame.DataFrame'>\n",
      "RangeIndex: 7613 entries, 0 to 7612\n",
      "Data columns (total 5 columns):\n",
      " #   Column    Non-Null Count  Dtype \n",
      "---  ------    --------------  ----- \n",
      " 0   id        7613 non-null   int64 \n",
      " 1   keyword   7552 non-null   object\n",
      " 2   location  5080 non-null   object\n",
      " 3   text      7613 non-null   object\n",
      " 4   target    7613 non-null   int64 \n",
      "dtypes: int64(2), object(3)\n",
      "memory usage: 297.5+ KB\n"
     ]
    }
   ],
   "source": [
    "display(data_train.head())\n",
    "data_train.info()"
   ]
  },
  {
   "cell_type": "code",
   "execution_count": 8,
   "id": "a7c20536",
   "metadata": {},
   "outputs": [
    {
     "data": {
      "text/plain": [
       "fatalities               45\n",
       "deluge                   42\n",
       "armageddon               42\n",
       "sinking                  41\n",
       "damage                   41\n",
       "                         ..\n",
       "forest%20fire            19\n",
       "epicentre                12\n",
       "threat                   11\n",
       "inundation               10\n",
       "radiation%20emergency     9\n",
       "Name: keyword, Length: 221, dtype: int64"
      ]
     },
     "execution_count": 8,
     "metadata": {},
     "output_type": "execute_result"
    }
   ],
   "source": [
    "data_train.keyword.value_counts()"
   ]
  },
  {
   "cell_type": "code",
   "execution_count": 12,
   "id": "1953dec4",
   "metadata": {},
   "outputs": [],
   "source": [
    "data_key = data_train[data_train.keyword.isna() == False]"
   ]
  },
  {
   "cell_type": "code",
   "execution_count": 46,
   "id": "65a73954",
   "metadata": {},
   "outputs": [
    {
     "name": "stdout",
     "output_type": "stream",
     "text": [
      "<class 'pandas.core.frame.DataFrame'>\n",
      "Int64Index: 7552 entries, 31 to 7582\n",
      "Data columns (total 8 columns):\n",
      " #   Column          Non-Null Count  Dtype \n",
      "---  ------          --------------  ----- \n",
      " 0   id              7552 non-null   int64 \n",
      " 1   keyword         7552 non-null   object\n",
      " 2   location        5080 non-null   object\n",
      " 3   text            7552 non-null   object\n",
      " 4   target          7552 non-null   int64 \n",
      " 5   text_clean      7552 non-null   object\n",
      " 6   text_len        7552 non-null   int64 \n",
      " 7   text_clean_len  7552 non-null   int64 \n",
      "dtypes: int64(4), object(4)\n",
      "memory usage: 789.0+ KB\n"
     ]
    }
   ],
   "source": [
    "data_key.info()"
   ]
  },
  {
   "cell_type": "code",
   "execution_count": 13,
   "id": "8c757c27",
   "metadata": {},
   "outputs": [],
   "source": [
    "import nltk\n",
    "import re\n",
    "from unidecode import unidecode"
   ]
  },
  {
   "cell_type": "code",
   "execution_count": 16,
   "id": "9ab84f37",
   "metadata": {},
   "outputs": [],
   "source": [
    "regxcache={\n",
    "# precompile regular expressions for faster preprocessing\n",
    "\"<.*?>\" : re.compile(\"<.*?>\"),\n",
    "\"&.{1,9};\" : re.compile(\"&.{1,9};\"),\n",
    "\"[^a-z]+\" : re.compile(\"[^a-z]+\"),\n",
    "\"\\s[a-z]\\s+\" : re.compile(\"\\s[a-z]\\s+\"),\n",
    "\"\\s+\" : re.compile(\"\\s+\"),\n",
    "}\n",
    "\n",
    "def preprocess(doc):\n",
    "    \"\"\"\n",
    "    Normalize articles.\n",
    "\n",
    "    1. lowercase\n",
    "    2. only single whitespace\n",
    "    3. unicode to ascii\n",
    "    4. delete punctuation and numbers\n",
    "    5. delete html tags <...>\n",
    "    6. delete html character (like &nbsp;)\n",
    "    7. delete stray single characters\n",
    "    \"\"\"\n",
    "    # Lowercase\n",
    "    doc = doc.lower()\n",
    "    # expand negations\n",
    "    doc = doc.replace(\"n't\",\" not\")\n",
    "    # Remove leading/trailing whitespace\n",
    "    doc = doc.strip()\n",
    "    # Convert Unicode into ASCII\n",
    "    doc = unidecode(doc)\n",
    "    # Remove HTML tags:\n",
    "    doc = regxcache[\"<.*?>\"].sub(\" \", doc)\n",
    "    # remove &nbsp; and other HTML codes up to 9 characters long\n",
    "    doc = regxcache[\"&.{1,9};\"].sub(\" \", doc)\n",
    "    # Remove punctuation and Numbers\n",
    "    doc = regxcache[\"[^a-z]+\"].sub( \" \", doc)\n",
    "    # Remove stray single characters\n",
    "    doc = regxcache[\"\\s[a-z]\\s+\"].sub( \" \", doc)\n",
    "    # Remove extra whitespace\n",
    "    doc = regxcache[\"\\s+\"].sub( \" \", doc)\n",
    "    return doc"
   ]
  },
  {
   "cell_type": "code",
   "execution_count": 17,
   "id": "cbed1ea2",
   "metadata": {},
   "outputs": [
    {
     "name": "stderr",
     "output_type": "stream",
     "text": [
      "C:\\Users\\Arjun\\AppData\\Local\\Temp/ipykernel_12492/645617206.py:1: SettingWithCopyWarning: \n",
      "A value is trying to be set on a copy of a slice from a DataFrame.\n",
      "Try using .loc[row_indexer,col_indexer] = value instead\n",
      "\n",
      "See the caveats in the documentation: https://pandas.pydata.org/pandas-docs/stable/user_guide/indexing.html#returning-a-view-versus-a-copy\n",
      "  data_key[\"text_clean\"] = data_key.text.apply(preprocess)\n"
     ]
    }
   ],
   "source": [
    "data_key[\"text_clean\"] = data_key.text.apply(preprocess)"
   ]
  },
  {
   "cell_type": "code",
   "execution_count": 19,
   "id": "77749c26",
   "metadata": {},
   "outputs": [
    {
     "data": {
      "text/plain": [
       "' africanbaze breaking news nigeria flag set ablaze in aba http co nndbgwyei'"
      ]
     },
     "execution_count": 19,
     "metadata": {},
     "output_type": "execute_result"
    }
   ],
   "source": [
    "data_key.text_clean[33]"
   ]
  },
  {
   "cell_type": "code",
   "execution_count": 21,
   "id": "c2250174",
   "metadata": {},
   "outputs": [
    {
     "name": "stderr",
     "output_type": "stream",
     "text": [
      "C:\\Users\\Arjun\\AppData\\Local\\Temp/ipykernel_12492/3922398094.py:1: SettingWithCopyWarning: \n",
      "A value is trying to be set on a copy of a slice from a DataFrame.\n",
      "Try using .loc[row_indexer,col_indexer] = value instead\n",
      "\n",
      "See the caveats in the documentation: https://pandas.pydata.org/pandas-docs/stable/user_guide/indexing.html#returning-a-view-versus-a-copy\n",
      "  data_key[\"text_len\"] = data_key.text.apply(len)\n"
     ]
    },
    {
     "data": {
      "text/plain": [
       "keyword\n",
       "ablaze                 3409\n",
       "accident               3503\n",
       "aftershock             3441\n",
       "airplane%20accident    3724\n",
       "ambulance              3739\n",
       "                       ... \n",
       "wounded                4109\n",
       "wounds                 3411\n",
       "wreck                  3276\n",
       "wreckage               4768\n",
       "wrecked                3009\n",
       "Name: text_len, Length: 221, dtype: int64"
      ]
     },
     "execution_count": 21,
     "metadata": {},
     "output_type": "execute_result"
    }
   ],
   "source": [
    "data_key[\"text_len\"] = data_key.text.apply(len)\n",
    "\n",
    "data_key.groupby(\"keyword\").text_len.sum()"
   ]
  },
  {
   "cell_type": "code",
   "execution_count": 23,
   "id": "d1dd3042",
   "metadata": {},
   "outputs": [
    {
     "name": "stderr",
     "output_type": "stream",
     "text": [
      "C:\\Users\\Arjun\\AppData\\Local\\Temp/ipykernel_12492/2910172588.py:1: SettingWithCopyWarning: \n",
      "A value is trying to be set on a copy of a slice from a DataFrame.\n",
      "Try using .loc[row_indexer,col_indexer] = value instead\n",
      "\n",
      "See the caveats in the documentation: https://pandas.pydata.org/pandas-docs/stable/user_guide/indexing.html#returning-a-view-versus-a-copy\n",
      "  data_key[\"text_clean_len\"] = data_key.text_clean.apply(len)\n"
     ]
    },
    {
     "data": {
      "text/plain": [
       "keyword\n",
       "ablaze                 3084\n",
       "accident               3126\n",
       "aftershock             3041\n",
       "airplane%20accident    3385\n",
       "ambulance              3414\n",
       "                       ... \n",
       "wounded                3787\n",
       "wounds                 3165\n",
       "wreck                  3003\n",
       "wreckage               4248\n",
       "wrecked                2726\n",
       "Name: text_clean_len, Length: 221, dtype: int64"
      ]
     },
     "execution_count": 23,
     "metadata": {},
     "output_type": "execute_result"
    }
   ],
   "source": [
    "data_key[\"text_clean_len\"] = data_key.text_clean.apply(len)\n",
    "\n",
    "data_key.groupby(\"keyword\").text_clean_len.sum()"
   ]
  },
  {
   "cell_type": "code",
   "execution_count": 30,
   "id": "c2334f42",
   "metadata": {},
   "outputs": [],
   "source": [
    "from sklearn.pipeline import Pipeline\n",
    "from sklearn.pipeline import FeatureUnion\n",
    "from sklearn.preprocessing import StandardScaler\n",
    "from sklearn.feature_extraction.text import CountVectorizer\n",
    "from sklearn.feature_extraction.text import TfidfTransformer\n",
    "from sklearn.naive_bayes import MultinomialNB"
   ]
  },
  {
   "cell_type": "code",
   "execution_count": 32,
   "id": "aa70d1a0",
   "metadata": {},
   "outputs": [],
   "source": [
    "tfidf = Pipeline([\n",
    "    (\"count\", CountVectorizer(max_features = 5000, stop_words = \"english\")),\n",
    "    (\"tfidf\", TfidfTransformer())\n",
    "])\n",
    "\n",
    "master = Pipeline([\n",
    "    (\"vect\", tfidf),\n",
    "    (\"scaler\", StandardScaler(with_mean = False)),\n",
    "    (\"clf\", MultinomialNB())\n",
    "])"
   ]
  },
  {
   "cell_type": "code",
   "execution_count": 51,
   "id": "563b989f",
   "metadata": {},
   "outputs": [],
   "source": [
    "X = data_key[\"text_clean\"]\n",
    "Y = data_key[\"target\"].astype(\"bool\")"
   ]
  },
  {
   "cell_type": "code",
   "execution_count": 56,
   "id": "836791c4",
   "metadata": {},
   "outputs": [],
   "source": [
    "from sklearn.model_selection import train_test_split\n",
    "\n",
    "X_train, X_test, Y_train, Y_test = train_test_split(X, Y, test_size = 0.2, random_state = 42)"
   ]
  },
  {
   "cell_type": "code",
   "execution_count": 57,
   "id": "c3db783e",
   "metadata": {},
   "outputs": [
    {
     "data": {
      "text/plain": [
       "(6041,)"
      ]
     },
     "execution_count": 57,
     "metadata": {},
     "output_type": "execute_result"
    }
   ],
   "source": [
    "X_train.shape"
   ]
  },
  {
   "cell_type": "code",
   "execution_count": 58,
   "id": "af6d8679",
   "metadata": {},
   "outputs": [
    {
     "data": {
      "text/plain": [
       "(6041,)"
      ]
     },
     "execution_count": 58,
     "metadata": {},
     "output_type": "execute_result"
    }
   ],
   "source": [
    "Y_train.shape"
   ]
  },
  {
   "cell_type": "code",
   "execution_count": 59,
   "id": "83bdbf7c",
   "metadata": {},
   "outputs": [
    {
     "data": {
      "text/plain": [
       "Pipeline(steps=[('vect',\n",
       "                 Pipeline(steps=[('count',\n",
       "                                  CountVectorizer(max_features=5000,\n",
       "                                                  stop_words='english')),\n",
       "                                 ('tfidf', TfidfTransformer())])),\n",
       "                ('scaler', StandardScaler(with_mean=False)),\n",
       "                ('clf', MultinomialNB())])"
      ]
     },
     "execution_count": 59,
     "metadata": {},
     "output_type": "execute_result"
    }
   ],
   "source": [
    "master.fit(X_train, Y_train)"
   ]
  },
  {
   "cell_type": "code",
   "execution_count": 60,
   "id": "db6584af",
   "metadata": {},
   "outputs": [],
   "source": [
    "Y_pred = master.predict(X_test)"
   ]
  },
  {
   "cell_type": "code",
   "execution_count": 61,
   "id": "5958c1b9",
   "metadata": {},
   "outputs": [],
   "source": [
    "from sklearn.metrics import accuracy_score, f1_score"
   ]
  },
  {
   "cell_type": "code",
   "execution_count": 62,
   "id": "c92c9b6a",
   "metadata": {},
   "outputs": [
    {
     "name": "stdout",
     "output_type": "stream",
     "text": [
      "Accuracy score: 0.7557908669755129\n",
      "F1-score: 0.7176740627390973\n"
     ]
    }
   ],
   "source": [
    "print(\"Accuracy score:\", accuracy_score(Y_test, Y_pred))\n",
    "print(\"F1-score:\", f1_score(Y_test, Y_pred))"
   ]
  },
  {
   "cell_type": "code",
   "execution_count": null,
   "id": "74508242",
   "metadata": {},
   "outputs": [],
   "source": []
  }
 ],
 "metadata": {
  "kernelspec": {
   "display_name": "Python 3 (ipykernel)",
   "language": "python",
   "name": "python3"
  },
  "language_info": {
   "codemirror_mode": {
    "name": "ipython",
    "version": 3
   },
   "file_extension": ".py",
   "mimetype": "text/x-python",
   "name": "python",
   "nbconvert_exporter": "python",
   "pygments_lexer": "ipython3",
   "version": "3.9.7"
  }
 },
 "nbformat": 4,
 "nbformat_minor": 5
}
