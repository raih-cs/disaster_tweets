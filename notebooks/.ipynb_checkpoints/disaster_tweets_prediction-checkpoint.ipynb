{
 "cells": [
  {
   "cell_type": "code",
   "execution_count": 1,
   "id": "1191aa94",
   "metadata": {},
   "outputs": [],
   "source": [
    "import os\n",
    "import numpy as np\n",
    "import pandas as pd\n",
    "import seaborn as sns\n",
    "import matplotlib.pyplot as plt"
   ]
  },
  {
   "cell_type": "code",
   "execution_count": 2,
   "id": "23c7c234",
   "metadata": {},
   "outputs": [
    {
     "name": "stdout",
     "output_type": "stream",
     "text": [
      "Training set shape: (7613, 5)\n",
      "\n",
      "Test set shape: (3263, 4)\n",
      "\n"
     ]
    }
   ],
   "source": [
    "# Only run once\n",
    "\n",
    "os.chdir('..')\n",
    "\n",
    "basepath = os.getcwd()\n",
    "\n",
    "data_train = pd.read_csv(basepath + '/data/train.csv')\n",
    "data_test = pd.read_csv(basepath + '/data/test.csv')\n",
    "\n",
    "print(f\"Training set shape: {data_train.shape}\\n\")\n",
    "print(f\"Test set shape: {data_test.shape}\\n\")"
   ]
  },
  {
   "cell_type": "code",
   "execution_count": 3,
   "id": "1c236ee6",
   "metadata": {},
   "outputs": [
    {
     "data": {
      "text/html": [
       "<div>\n",
       "<style scoped>\n",
       "    .dataframe tbody tr th:only-of-type {\n",
       "        vertical-align: middle;\n",
       "    }\n",
       "\n",
       "    .dataframe tbody tr th {\n",
       "        vertical-align: top;\n",
       "    }\n",
       "\n",
       "    .dataframe thead th {\n",
       "        text-align: right;\n",
       "    }\n",
       "</style>\n",
       "<table border=\"1\" class=\"dataframe\">\n",
       "  <thead>\n",
       "    <tr style=\"text-align: right;\">\n",
       "      <th></th>\n",
       "      <th>id</th>\n",
       "      <th>keyword</th>\n",
       "      <th>location</th>\n",
       "      <th>text</th>\n",
       "      <th>target</th>\n",
       "    </tr>\n",
       "  </thead>\n",
       "  <tbody>\n",
       "    <tr>\n",
       "      <th>0</th>\n",
       "      <td>1</td>\n",
       "      <td>NaN</td>\n",
       "      <td>NaN</td>\n",
       "      <td>Our Deeds are the Reason of this #earthquake M...</td>\n",
       "      <td>1</td>\n",
       "    </tr>\n",
       "    <tr>\n",
       "      <th>1</th>\n",
       "      <td>4</td>\n",
       "      <td>NaN</td>\n",
       "      <td>NaN</td>\n",
       "      <td>Forest fire near La Ronge Sask. Canada</td>\n",
       "      <td>1</td>\n",
       "    </tr>\n",
       "    <tr>\n",
       "      <th>2</th>\n",
       "      <td>5</td>\n",
       "      <td>NaN</td>\n",
       "      <td>NaN</td>\n",
       "      <td>All residents asked to 'shelter in place' are ...</td>\n",
       "      <td>1</td>\n",
       "    </tr>\n",
       "    <tr>\n",
       "      <th>3</th>\n",
       "      <td>6</td>\n",
       "      <td>NaN</td>\n",
       "      <td>NaN</td>\n",
       "      <td>13,000 people receive #wildfires evacuation or...</td>\n",
       "      <td>1</td>\n",
       "    </tr>\n",
       "    <tr>\n",
       "      <th>4</th>\n",
       "      <td>7</td>\n",
       "      <td>NaN</td>\n",
       "      <td>NaN</td>\n",
       "      <td>Just got sent this photo from Ruby #Alaska as ...</td>\n",
       "      <td>1</td>\n",
       "    </tr>\n",
       "  </tbody>\n",
       "</table>\n",
       "</div>"
      ],
      "text/plain": [
       "   id keyword location                                               text  \\\n",
       "0   1     NaN      NaN  Our Deeds are the Reason of this #earthquake M...   \n",
       "1   4     NaN      NaN             Forest fire near La Ronge Sask. Canada   \n",
       "2   5     NaN      NaN  All residents asked to 'shelter in place' are ...   \n",
       "3   6     NaN      NaN  13,000 people receive #wildfires evacuation or...   \n",
       "4   7     NaN      NaN  Just got sent this photo from Ruby #Alaska as ...   \n",
       "\n",
       "   target  \n",
       "0       1  \n",
       "1       1  \n",
       "2       1  \n",
       "3       1  \n",
       "4       1  "
      ]
     },
     "metadata": {},
     "output_type": "display_data"
    },
    {
     "name": "stdout",
     "output_type": "stream",
     "text": [
      "<class 'pandas.core.frame.DataFrame'>\n",
      "RangeIndex: 7613 entries, 0 to 7612\n",
      "Data columns (total 5 columns):\n",
      " #   Column    Non-Null Count  Dtype \n",
      "---  ------    --------------  ----- \n",
      " 0   id        7613 non-null   int64 \n",
      " 1   keyword   7552 non-null   object\n",
      " 2   location  5080 non-null   object\n",
      " 3   text      7613 non-null   object\n",
      " 4   target    7613 non-null   int64 \n",
      "dtypes: int64(2), object(3)\n",
      "memory usage: 297.5+ KB\n"
     ]
    }
   ],
   "source": [
    "display(data_train.head())\n",
    "data_train.info()"
   ]
  },
  {
   "cell_type": "code",
   "execution_count": 3,
   "id": "a7c20536",
   "metadata": {},
   "outputs": [
    {
     "data": {
      "text/plain": [
       "fatalities               45\n",
       "deluge                   42\n",
       "armageddon               42\n",
       "sinking                  41\n",
       "damage                   41\n",
       "                         ..\n",
       "forest%20fire            19\n",
       "epicentre                12\n",
       "threat                   11\n",
       "inundation               10\n",
       "radiation%20emergency     9\n",
       "Name: keyword, Length: 221, dtype: int64"
      ]
     },
     "execution_count": 3,
     "metadata": {},
     "output_type": "execute_result"
    }
   ],
   "source": [
    "data_train.keyword.value_counts()"
   ]
  },
  {
   "cell_type": "code",
   "execution_count": 4,
   "id": "1953dec4",
   "metadata": {},
   "outputs": [],
   "source": [
    "data_key = data_train[data_train.keyword.isna() == False]"
   ]
  },
  {
   "cell_type": "code",
   "execution_count": 5,
   "id": "65a73954",
   "metadata": {},
   "outputs": [
    {
     "name": "stdout",
     "output_type": "stream",
     "text": [
      "<class 'pandas.core.frame.DataFrame'>\n",
      "Int64Index: 7552 entries, 31 to 7582\n",
      "Data columns (total 5 columns):\n",
      " #   Column    Non-Null Count  Dtype \n",
      "---  ------    --------------  ----- \n",
      " 0   id        7552 non-null   int64 \n",
      " 1   keyword   7552 non-null   object\n",
      " 2   location  5080 non-null   object\n",
      " 3   text      7552 non-null   object\n",
      " 4   target    7552 non-null   int64 \n",
      "dtypes: int64(2), object(3)\n",
      "memory usage: 354.0+ KB\n"
     ]
    }
   ],
   "source": [
    "data_key.info()"
   ]
  },
  {
   "cell_type": "markdown",
   "id": "70281fc9",
   "metadata": {},
   "source": [
    "## Target variable - disaster tweets"
   ]
  },
  {
   "cell_type": "code",
   "execution_count": 11,
   "id": "f7370fa5",
   "metadata": {},
   "outputs": [
    {
     "data": {
      "text/html": [
       "<div>\n",
       "<style scoped>\n",
       "    .dataframe tbody tr th:only-of-type {\n",
       "        vertical-align: middle;\n",
       "    }\n",
       "\n",
       "    .dataframe tbody tr th {\n",
       "        vertical-align: top;\n",
       "    }\n",
       "\n",
       "    .dataframe thead th {\n",
       "        text-align: right;\n",
       "    }\n",
       "</style>\n",
       "<table border=\"1\" class=\"dataframe\">\n",
       "  <thead>\n",
       "    <tr style=\"text-align: right;\">\n",
       "      <th></th>\n",
       "      <th>id</th>\n",
       "      <th>keyword</th>\n",
       "      <th>location</th>\n",
       "      <th>text</th>\n",
       "      <th>target</th>\n",
       "    </tr>\n",
       "  </thead>\n",
       "  <tbody>\n",
       "    <tr>\n",
       "      <th>31</th>\n",
       "      <td>48</td>\n",
       "      <td>ablaze</td>\n",
       "      <td>Birmingham</td>\n",
       "      <td>@bbcmtd Wholesale Markets ablaze http://t.co/l...</td>\n",
       "      <td>1</td>\n",
       "    </tr>\n",
       "    <tr>\n",
       "      <th>33</th>\n",
       "      <td>50</td>\n",
       "      <td>ablaze</td>\n",
       "      <td>AFRICA</td>\n",
       "      <td>#AFRICANBAZE: Breaking news:Nigeria flag set a...</td>\n",
       "      <td>1</td>\n",
       "    </tr>\n",
       "    <tr>\n",
       "      <th>37</th>\n",
       "      <td>55</td>\n",
       "      <td>ablaze</td>\n",
       "      <td>World Wide!!</td>\n",
       "      <td>INEC Office in Abia Set Ablaze - http://t.co/3...</td>\n",
       "      <td>1</td>\n",
       "    </tr>\n",
       "    <tr>\n",
       "      <th>38</th>\n",
       "      <td>56</td>\n",
       "      <td>ablaze</td>\n",
       "      <td>NaN</td>\n",
       "      <td>Barbados #Bridgetown JAMAICA ÛÒ Two cars set ...</td>\n",
       "      <td>1</td>\n",
       "    </tr>\n",
       "    <tr>\n",
       "      <th>46</th>\n",
       "      <td>66</td>\n",
       "      <td>ablaze</td>\n",
       "      <td>GREENSBORO,NORTH CAROLINA</td>\n",
       "      <td>How the West was burned: Thousands of wildfire...</td>\n",
       "      <td>1</td>\n",
       "    </tr>\n",
       "    <tr>\n",
       "      <th>...</th>\n",
       "      <td>...</td>\n",
       "      <td>...</td>\n",
       "      <td>...</td>\n",
       "      <td>...</td>\n",
       "      <td>...</td>\n",
       "    </tr>\n",
       "    <tr>\n",
       "      <th>7542</th>\n",
       "      <td>10783</td>\n",
       "      <td>wreckage</td>\n",
       "      <td>Xi'an, China</td>\n",
       "      <td>Wreckage 'conclusively confirmed' as from miss...</td>\n",
       "      <td>1</td>\n",
       "    </tr>\n",
       "    <tr>\n",
       "      <th>7543</th>\n",
       "      <td>10784</td>\n",
       "      <td>wreckage</td>\n",
       "      <td>Mumbai</td>\n",
       "      <td>Wreckage 'Conclusively Confirmed' as From MH37...</td>\n",
       "      <td>1</td>\n",
       "    </tr>\n",
       "    <tr>\n",
       "      <th>7552</th>\n",
       "      <td>10795</td>\n",
       "      <td>wrecked</td>\n",
       "      <td>Santa Cruz, CA</td>\n",
       "      <td>Israel wrecked my home. Now it wants my land. ...</td>\n",
       "      <td>1</td>\n",
       "    </tr>\n",
       "    <tr>\n",
       "      <th>7559</th>\n",
       "      <td>10808</td>\n",
       "      <td>wrecked</td>\n",
       "      <td>NaN</td>\n",
       "      <td>300K exotic car wrecked in train accident \\nht...</td>\n",
       "      <td>1</td>\n",
       "    </tr>\n",
       "    <tr>\n",
       "      <th>7572</th>\n",
       "      <td>10823</td>\n",
       "      <td>wrecked</td>\n",
       "      <td>Manhattan, NY</td>\n",
       "      <td>@Kirafrog @mount_wario Did you get wrecked again?</td>\n",
       "      <td>1</td>\n",
       "    </tr>\n",
       "  </tbody>\n",
       "</table>\n",
       "<p>3229 rows × 5 columns</p>\n",
       "</div>"
      ],
      "text/plain": [
       "         id   keyword                   location  \\\n",
       "31       48    ablaze                 Birmingham   \n",
       "33       50    ablaze                     AFRICA   \n",
       "37       55    ablaze               World Wide!!   \n",
       "38       56    ablaze                        NaN   \n",
       "46       66    ablaze  GREENSBORO,NORTH CAROLINA   \n",
       "...     ...       ...                        ...   \n",
       "7542  10783  wreckage               Xi'an, China   \n",
       "7543  10784  wreckage                     Mumbai   \n",
       "7552  10795   wrecked             Santa Cruz, CA   \n",
       "7559  10808   wrecked                        NaN   \n",
       "7572  10823   wrecked              Manhattan, NY   \n",
       "\n",
       "                                                   text  target  \n",
       "31    @bbcmtd Wholesale Markets ablaze http://t.co/l...       1  \n",
       "33    #AFRICANBAZE: Breaking news:Nigeria flag set a...       1  \n",
       "37    INEC Office in Abia Set Ablaze - http://t.co/3...       1  \n",
       "38    Barbados #Bridgetown JAMAICA ÛÒ Two cars set ...       1  \n",
       "46    How the West was burned: Thousands of wildfire...       1  \n",
       "...                                                 ...     ...  \n",
       "7542  Wreckage 'conclusively confirmed' as from miss...       1  \n",
       "7543  Wreckage 'Conclusively Confirmed' as From MH37...       1  \n",
       "7552  Israel wrecked my home. Now it wants my land. ...       1  \n",
       "7559  300K exotic car wrecked in train accident \\nht...       1  \n",
       "7572  @Kirafrog @mount_wario Did you get wrecked again?       1  \n",
       "\n",
       "[3229 rows x 5 columns]"
      ]
     },
     "execution_count": 11,
     "metadata": {},
     "output_type": "execute_result"
    }
   ],
   "source": [
    "data_key_yes = data_key.loc[data_key.target == 1]\n",
    "data_key_yes"
   ]
  },
  {
   "cell_type": "code",
   "execution_count": 15,
   "id": "772ea253",
   "metadata": {},
   "outputs": [
    {
     "data": {
      "text/plain": [
       "derailment               39\n",
       "wreckage                 39\n",
       "outbreak                 39\n",
       "debris                   37\n",
       "oil%20spill              37\n",
       "typhoon                  37\n",
       "evacuated                32\n",
       "suicide%20bombing        32\n",
       "rescuers                 32\n",
       "suicide%20bomb           32\n",
       "nuclear%20disaster       31\n",
       "razed                    31\n",
       "suicide%20bomber         30\n",
       "earthquake               30\n",
       "airplane%20accident      30\n",
       "collision                29\n",
       "wildfire                 29\n",
       "bridge%20collapse        29\n",
       "evacuation               28\n",
       "buildings%20on%20fire    28\n",
       "mass%20murder            28\n",
       "casualties               28\n",
       "sandstorm                28\n",
       "drought                  28\n",
       "forest%20fires           27\n",
       "devastation              27\n",
       "hostages                 27\n",
       "bombing                  27\n",
       "wild%20fires             27\n",
       "sinkhole                 27\n",
       "famine                   26\n",
       "thunderstorm             26\n",
       "fatal                    26\n",
       "displaced                26\n",
       "derailed                 26\n",
       "fatalities               26\n",
       "floods                   26\n",
       "deaths                   26\n",
       "wounded                  26\n",
       "violent%20storm          26\n",
       "massacre                 25\n",
       "attack                   25\n",
       "flooding                 25\n",
       "evacuate                 25\n",
       "heat%20wave              25\n",
       "dust%20storm             24\n",
       "injured                  24\n",
       "hailstorm                24\n",
       "terrorism                24\n",
       "accident                 24\n",
       "Name: keyword, dtype: int64"
      ]
     },
     "execution_count": 15,
     "metadata": {},
     "output_type": "execute_result"
    }
   ],
   "source": [
    "data_key_yes.keyword.value_counts()[:50]"
   ]
  },
  {
   "cell_type": "code",
   "execution_count": 17,
   "id": "83140240",
   "metadata": {},
   "outputs": [
    {
     "data": {
      "text/plain": [
       "USA                            67\n",
       "United States                  27\n",
       "Nigeria                        22\n",
       "India                          20\n",
       "Mumbai                         19\n",
       "UK                             16\n",
       "London                         16\n",
       "New York                       16\n",
       "Washington, DC                 15\n",
       "Canada                         13\n",
       "Worldwide                      12\n",
       "Washington, D.C.                9\n",
       "Chicago, IL                     9\n",
       "Australia                       9\n",
       "Indonesia                       8\n",
       "Los Angeles, CA                 8\n",
       "California, USA                 8\n",
       "Earth                           8\n",
       "California                      7\n",
       "New York, NY                    7\n",
       "Nashville, TN                   7\n",
       "Toronto                         7\n",
       "Los Angeles                     7\n",
       "San Francisco, CA               7\n",
       "Sacramento, CA                  7\n",
       "San Francisco                   6\n",
       "Denver, Colorado                6\n",
       "New York City                   6\n",
       "US                              6\n",
       "Ireland                         6\n",
       "Kenya                           5\n",
       "Atlanta, GA                     5\n",
       "Pedophile hunting ground        5\n",
       "London, UK                      5\n",
       "Oklahoma City, OK               5\n",
       "Paterson, New Jersey            5\n",
       "Memphis, TN                     5\n",
       "Seattle                         4\n",
       "Melbourne, Australia            4\n",
       "Planet Earth                    4\n",
       "Tennessee                       4\n",
       "United Kingdom                  4\n",
       "Nigeria                         4\n",
       "Scotland                        4\n",
       "Lagos, Nigeria                  4\n",
       "Sacramento                      4\n",
       "Nairobi-KENYA                   4\n",
       "Puerto Rico                     4\n",
       "WorldWide                       4\n",
       "Jakarta/Kuala Lumpur/S'pore     4\n",
       "Name: location, dtype: int64"
      ]
     },
     "execution_count": 17,
     "metadata": {},
     "output_type": "execute_result"
    }
   ],
   "source": [
    "data_key_yes.location.value_counts()[:50]"
   ]
  },
  {
   "cell_type": "code",
   "execution_count": 18,
   "id": "8c757c27",
   "metadata": {},
   "outputs": [],
   "source": [
    "import nltk\n",
    "import re\n",
    "from unidecode import unidecode"
   ]
  },
  {
   "cell_type": "code",
   "execution_count": 19,
   "id": "9ab84f37",
   "metadata": {},
   "outputs": [],
   "source": [
    "regxcache={\n",
    "# precompile regular expressions for faster preprocessing\n",
    "\"<.*?>\" : re.compile(\"<.*?>\"),\n",
    "\"&.{1,9};\" : re.compile(\"&.{1,9};\"),\n",
    "\"[^a-z]+\" : re.compile(\"[^a-z]+\"),\n",
    "\"\\s[a-z]\\s+\" : re.compile(\"\\s[a-z]\\s+\"),\n",
    "\"\\s+\" : re.compile(\"\\s+\"),\n",
    "}\n",
    "\n",
    "def preprocess(doc):\n",
    "    \"\"\"\n",
    "    Normalize articles.\n",
    "\n",
    "    1. lowercase\n",
    "    2. only single whitespace\n",
    "    3. unicode to ascii\n",
    "    4. delete punctuation and numbers\n",
    "    5. delete html tags <...>\n",
    "    6. delete html character (like &nbsp;)\n",
    "    7. delete stray single characters\n",
    "    \"\"\"\n",
    "    # Lowercase\n",
    "    doc = doc.lower()\n",
    "    # expand negations\n",
    "    doc = doc.replace(\"n't\",\" not\")\n",
    "    # Remove leading/trailing whitespace\n",
    "    doc = doc.strip()\n",
    "    # Convert Unicode into ASCII\n",
    "    doc = unidecode(doc)\n",
    "    # Remove HTML tags:\n",
    "    doc = regxcache[\"<.*?>\"].sub(\" \", doc)\n",
    "    # remove &nbsp; and other HTML codes up to 9 characters long\n",
    "    doc = regxcache[\"&.{1,9};\"].sub(\" \", doc)\n",
    "    # Remove punctuation and Numbers\n",
    "    doc = regxcache[\"[^a-z]+\"].sub( \" \", doc)\n",
    "    # Remove stray single characters\n",
    "    doc = regxcache[\"\\s[a-z]\\s+\"].sub( \" \", doc)\n",
    "    # Remove extra whitespace\n",
    "    doc = regxcache[\"\\s+\"].sub( \" \", doc)\n",
    "    return doc"
   ]
  },
  {
   "cell_type": "code",
   "execution_count": 20,
   "id": "cbed1ea2",
   "metadata": {},
   "outputs": [
    {
     "name": "stderr",
     "output_type": "stream",
     "text": [
      "C:\\Users\\Arjun\\AppData\\Local\\Temp/ipykernel_19428/645617206.py:1: SettingWithCopyWarning: \n",
      "A value is trying to be set on a copy of a slice from a DataFrame.\n",
      "Try using .loc[row_indexer,col_indexer] = value instead\n",
      "\n",
      "See the caveats in the documentation: https://pandas.pydata.org/pandas-docs/stable/user_guide/indexing.html#returning-a-view-versus-a-copy\n",
      "  data_key[\"text_clean\"] = data_key.text.apply(preprocess)\n"
     ]
    }
   ],
   "source": [
    "data_key[\"text_clean\"] = data_key.text.apply(preprocess)"
   ]
  },
  {
   "cell_type": "code",
   "execution_count": 21,
   "id": "77749c26",
   "metadata": {},
   "outputs": [
    {
     "data": {
      "text/plain": [
       "' africanbaze breaking news nigeria flag set ablaze in aba http co nndbgwyei'"
      ]
     },
     "execution_count": 21,
     "metadata": {},
     "output_type": "execute_result"
    }
   ],
   "source": [
    "data_key.text_clean[33]"
   ]
  },
  {
   "cell_type": "code",
   "execution_count": 22,
   "id": "c2250174",
   "metadata": {},
   "outputs": [
    {
     "name": "stderr",
     "output_type": "stream",
     "text": [
      "C:\\Users\\Arjun\\AppData\\Local\\Temp/ipykernel_19428/3922398094.py:1: SettingWithCopyWarning: \n",
      "A value is trying to be set on a copy of a slice from a DataFrame.\n",
      "Try using .loc[row_indexer,col_indexer] = value instead\n",
      "\n",
      "See the caveats in the documentation: https://pandas.pydata.org/pandas-docs/stable/user_guide/indexing.html#returning-a-view-versus-a-copy\n",
      "  data_key[\"text_len\"] = data_key.text.apply(len)\n"
     ]
    },
    {
     "data": {
      "text/plain": [
       "keyword\n",
       "ablaze                 3409\n",
       "accident               3503\n",
       "aftershock             3441\n",
       "airplane%20accident    3724\n",
       "ambulance              3739\n",
       "                       ... \n",
       "wounded                4109\n",
       "wounds                 3411\n",
       "wreck                  3276\n",
       "wreckage               4768\n",
       "wrecked                3009\n",
       "Name: text_len, Length: 221, dtype: int64"
      ]
     },
     "execution_count": 22,
     "metadata": {},
     "output_type": "execute_result"
    }
   ],
   "source": [
    "data_key[\"text_len\"] = data_key.text.apply(len)\n",
    "\n",
    "data_key.groupby(\"keyword\").text_len.sum()"
   ]
  },
  {
   "cell_type": "code",
   "execution_count": 23,
   "id": "d1dd3042",
   "metadata": {},
   "outputs": [
    {
     "name": "stderr",
     "output_type": "stream",
     "text": [
      "C:\\Users\\Arjun\\AppData\\Local\\Temp/ipykernel_19428/2910172588.py:1: SettingWithCopyWarning: \n",
      "A value is trying to be set on a copy of a slice from a DataFrame.\n",
      "Try using .loc[row_indexer,col_indexer] = value instead\n",
      "\n",
      "See the caveats in the documentation: https://pandas.pydata.org/pandas-docs/stable/user_guide/indexing.html#returning-a-view-versus-a-copy\n",
      "  data_key[\"text_clean_len\"] = data_key.text_clean.apply(len)\n"
     ]
    },
    {
     "data": {
      "text/plain": [
       "keyword\n",
       "ablaze                 3084\n",
       "accident               3126\n",
       "aftershock             3041\n",
       "airplane%20accident    3385\n",
       "ambulance              3414\n",
       "                       ... \n",
       "wounded                3787\n",
       "wounds                 3165\n",
       "wreck                  3003\n",
       "wreckage               4248\n",
       "wrecked                2726\n",
       "Name: text_clean_len, Length: 221, dtype: int64"
      ]
     },
     "execution_count": 23,
     "metadata": {},
     "output_type": "execute_result"
    }
   ],
   "source": [
    "data_key[\"text_clean_len\"] = data_key.text_clean.apply(len)\n",
    "\n",
    "data_key.groupby(\"keyword\").text_clean_len.sum()"
   ]
  },
  {
   "cell_type": "code",
   "execution_count": 25,
   "id": "c2334f42",
   "metadata": {},
   "outputs": [],
   "source": [
    "from sklearn.pipeline import Pipeline\n",
    "from sklearn.pipeline import FeatureUnion\n",
    "from sklearn.preprocessing import StandardScaler\n",
    "from sklearn.feature_extraction.text import CountVectorizer\n",
    "from sklearn.feature_extraction.text import TfidfTransformer\n",
    "from sklearn.naive_bayes import MultinomialNB\n",
    "from sklearn.svm import SVC"
   ]
  },
  {
   "cell_type": "code",
   "execution_count": 26,
   "id": "aa70d1a0",
   "metadata": {},
   "outputs": [],
   "source": [
    "tfidf = Pipeline([\n",
    "    (\"count\", CountVectorizer(max_features = 5000, stop_words = \"english\")),\n",
    "    (\"tfidf\", TfidfTransformer())\n",
    "])\n",
    "\n",
    "master_NB = Pipeline([\n",
    "    (\"vect\", tfidf),\n",
    "    (\"scaler\", StandardScaler(with_mean = False)),\n",
    "    (\"clf\", MultinomialNB())\n",
    "])\n",
    "\n",
    "master_SVC = Pipeline([\n",
    "    (\"vect\", tfidf),\n",
    "    (\"scaler\", StandardScaler(with_mean = False)),\n",
    "    (\"clf\", SVC())\n",
    "])"
   ]
  },
  {
   "cell_type": "code",
   "execution_count": 27,
   "id": "563b989f",
   "metadata": {},
   "outputs": [],
   "source": [
    "X = data_key[\"text_clean\"]\n",
    "Y = data_key[\"target\"].astype(\"bool\")"
   ]
  },
  {
   "cell_type": "code",
   "execution_count": 28,
   "id": "836791c4",
   "metadata": {},
   "outputs": [],
   "source": [
    "from sklearn.model_selection import train_test_split\n",
    "\n",
    "X_train, X_test, Y_train, Y_test = train_test_split(X, Y, test_size = 0.2, random_state = 42)"
   ]
  },
  {
   "cell_type": "code",
   "execution_count": 29,
   "id": "c3db783e",
   "metadata": {},
   "outputs": [
    {
     "data": {
      "text/plain": [
       "(6041,)"
      ]
     },
     "execution_count": 29,
     "metadata": {},
     "output_type": "execute_result"
    }
   ],
   "source": [
    "X_train.shape"
   ]
  },
  {
   "cell_type": "code",
   "execution_count": 30,
   "id": "af6d8679",
   "metadata": {},
   "outputs": [
    {
     "data": {
      "text/plain": [
       "(6041,)"
      ]
     },
     "execution_count": 30,
     "metadata": {},
     "output_type": "execute_result"
    }
   ],
   "source": [
    "Y_train.shape"
   ]
  },
  {
   "cell_type": "code",
   "execution_count": 31,
   "id": "83bdbf7c",
   "metadata": {},
   "outputs": [
    {
     "data": {
      "text/plain": [
       "Pipeline(steps=[('vect',\n",
       "                 Pipeline(steps=[('count',\n",
       "                                  CountVectorizer(max_features=5000,\n",
       "                                                  stop_words='english')),\n",
       "                                 ('tfidf', TfidfTransformer())])),\n",
       "                ('scaler', StandardScaler(with_mean=False)),\n",
       "                ('clf', MultinomialNB())])"
      ]
     },
     "execution_count": 31,
     "metadata": {},
     "output_type": "execute_result"
    }
   ],
   "source": [
    "master_NB.fit(X_train, Y_train)"
   ]
  },
  {
   "cell_type": "code",
   "execution_count": 33,
   "id": "db6584af",
   "metadata": {},
   "outputs": [],
   "source": [
    "Y_NB_pred = master_NB.predict(X_test)"
   ]
  },
  {
   "cell_type": "code",
   "execution_count": 34,
   "id": "5958c1b9",
   "metadata": {},
   "outputs": [],
   "source": [
    "from sklearn.metrics import accuracy_score, f1_score"
   ]
  },
  {
   "cell_type": "code",
   "execution_count": 35,
   "id": "c92c9b6a",
   "metadata": {},
   "outputs": [
    {
     "name": "stdout",
     "output_type": "stream",
     "text": [
      "Accuracy score: 0.7557908669755129\n",
      "F1-score: 0.7176740627390973\n"
     ]
    }
   ],
   "source": [
    "print(\"Accuracy score:\", accuracy_score(Y_test, Y_NB_pred))\n",
    "print(\"F1-score:\", f1_score(Y_test, Y_NB_pred))"
   ]
  },
  {
   "cell_type": "code",
   "execution_count": 36,
   "id": "74508242",
   "metadata": {},
   "outputs": [
    {
     "data": {
      "text/plain": [
       "Pipeline(steps=[('vect',\n",
       "                 Pipeline(steps=[('count',\n",
       "                                  CountVectorizer(max_features=5000,\n",
       "                                                  stop_words='english')),\n",
       "                                 ('tfidf', TfidfTransformer())])),\n",
       "                ('scaler', StandardScaler(with_mean=False)), ('clf', SVC())])"
      ]
     },
     "execution_count": 36,
     "metadata": {},
     "output_type": "execute_result"
    }
   ],
   "source": [
    "master_SVC.fit(X_train, Y_train)"
   ]
  },
  {
   "cell_type": "code",
   "execution_count": 37,
   "id": "444f58bf",
   "metadata": {},
   "outputs": [],
   "source": [
    "Y_SVC_pred = master_SVC.predict(X_test)"
   ]
  },
  {
   "cell_type": "code",
   "execution_count": 38,
   "id": "742dce6c",
   "metadata": {},
   "outputs": [
    {
     "name": "stdout",
     "output_type": "stream",
     "text": [
      "Accuracy score: 0.786896095301125\n",
      "F1-score: 0.7150442477876106\n"
     ]
    }
   ],
   "source": [
    "print(\"Accuracy score:\", accuracy_score(Y_test, Y_SVC_pred))\n",
    "print(\"F1-score:\", f1_score(Y_test, Y_SVC_pred))"
   ]
  },
  {
   "cell_type": "code",
   "execution_count": null,
   "id": "003d4992",
   "metadata": {},
   "outputs": [],
   "source": []
  }
 ],
 "metadata": {
  "kernelspec": {
   "display_name": "Python 3 (ipykernel)",
   "language": "python",
   "name": "python3"
  },
  "language_info": {
   "codemirror_mode": {
    "name": "ipython",
    "version": 3
   },
   "file_extension": ".py",
   "mimetype": "text/x-python",
   "name": "python",
   "nbconvert_exporter": "python",
   "pygments_lexer": "ipython3",
   "version": "3.9.7"
  }
 },
 "nbformat": 4,
 "nbformat_minor": 5
}
